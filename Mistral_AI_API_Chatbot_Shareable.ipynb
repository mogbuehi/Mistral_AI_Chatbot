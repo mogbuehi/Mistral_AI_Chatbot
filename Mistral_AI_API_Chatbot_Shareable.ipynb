{
  "nbformat": 4,
  "nbformat_minor": 0,
  "metadata": {
    "colab": {
      "provenance": [],
      "authorship_tag": "ABX9TyP0IWuxcprCoSsjGLqvv7Hu",
      "include_colab_link": true
    },
    "kernelspec": {
      "name": "python3",
      "display_name": "Python 3"
    },
    "language_info": {
      "name": "python"
    }
  },
  "cells": [
    {
      "cell_type": "markdown",
      "metadata": {
        "id": "view-in-github",
        "colab_type": "text"
      },
      "source": [
        "<a href=\"https://colab.research.google.com/github/mogbuehi/Mistral_AI_Chatbot/blob/main/Mistral_AI_API_Chatbot_Shareable.ipynb\" target=\"_parent\"><img src=\"https://colab.research.google.com/assets/colab-badge.svg\" alt=\"Open In Colab\"/></a>"
      ]
    },
    {
      "cell_type": "markdown",
      "source": [
        "![download.jpg](data:image/jpeg;base64,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) ![download (1).jpg](data:image/jpeg;base64,/9j/4AAQSkZJRgABAQAAAQABAAD/2wCEAAoHCBYWFRgWFRYYGRgaHBoaHRwaHBgcIRoZHhwfHhoeHhwcIS4lIR4rJRoYJjomKy8xNTU1HCQ7QDs0Py40NTEBDAwMEA8QHxISHj8rJSw2NDE0NDQ9NDQ3NDY0NjQ2NjQ0NDQ9NDQ0NDQ0NDQ0NDQ0NDQ0NDQ0NDQ0NDQ0NDE0NP/AABEIAOEA4QMBIgACEQEDEQH/xAAcAAEAAQUBAQAAAAAAAAAAAAAABQEDBAYHAgj/xABEEAACAQIEAwUFBQYEBAcBAAABAgADEQQSITEFQVEGImFxgQcykaGxE0JSwdEUYnKC4fAjM5KiJHOy8RY0NUPC0uIV/8QAGgEBAAMBAQEAAAAAAAAAAAAAAAIDBAUBBv/EACsRAAMAAgEEAQMDBAMAAAAAAAABAgMRIQQSMUEiMlGhE2GRBRRxsTOB8f/aAAwDAQACEQMRAD8A7NERAEREAREQBERAEREAREpAKSxi8SlNS7sFUakmXXYAXJsBqZynth2gOIfIh/wVJt+834j4dPDzkapStl/T4KzXpePbJPiHb6oSRRRFXkXuxI6kCwHlrITEdq8W/wD7zKOihV+YF/nIS8pMzun7O5HSYZ8T/PJlvxCqxu1Wodb6u+/XfeSHDePYtWy06rtzs5DC1/3vPlIW8uYetkYP038uci6pLh8llYoc60v4NzwvbLFAsGoo2W17HKdRcW1On6GSKdvaYOWpRqq1r2GU87aEkaTVnYCojj3agyG3MjvIfhnHqJF4+tmdjyNlH8KE5j6ubfySMdRbZirpMVPWvfo6twrtLQrtlRjnsTlYEE23tyPxk3OSdiVJxlO3LOT5ZT/SdaE2RTpbZzuqwzhydqPUREmZhERAEREAREQBERAEREAREQBERAEREA8zA4pxSnh0L1DYchzY9AOcj+0faOnhlto1QjuqDt0J6D6zlvEeIVK7F6jFmPwA6AchK7yKeEbem6Osvyrhf7Jrj3a+rXUooFOmdCBqzDoT+Q+M1WrXVfeP9+UumY9QPsoUX3Y629JnbdPk7MYpxTqFosHiSdD8v1l/D1WfXLlXx3MtphVS7Ocx6mYeJ4yAbIL+J/ISSnuepRXWV413ZK1+xKtVVTYsAT1Iv855TFIdA6n1E19XLm7XF9yf0l+vg3VQ4GdPxIb28GBF1PnLX09JbM/9+m+EbVgMXTam1Ko3uEFbNYlb3XKQb3BFtJjVHzG9gBoAByUaACaqM19vibfSXEqunusR63+sgukpbaPI6yVW2jr3s0w6k1ahtnFkA5hTqT6kAfyzoU5f7LK1C5LV/wDiWBX7MjIAt7938Z0Hl05nqEumXK0zm9TavI6RWIiSKBERAEREAREQBERAEREAREQBERAKTW+13aD9mQKljUa+UHkBuxHwtNkmsds+zS4ymCpCVkuUY3tbmrW+6evKePeuCeJyrTrwcur1mZizMWZjck6kmWHcDUm0x+JYTE4c5ayOnQsvdPk47p9DImq5b3iTM3Y98nc/u4U/BEs2PQffEsV+Koo0Nz0F5FlL6cpbah0mien2tmS/6hS4RerYl6mpuF6S9gUsy6ZQdLkLY/6+6fjMZGYuAov0Ft7a8pP4XH07FGQISCrA6qHF9WU8vHQjWaJ7J+KRhqqt91MyzwkZXuiFgMyshK+NmXYeYuJjYHiiKrKVFyNwApNtwQO6W6HY7GRS8ScEZCVKElNb5R95CT7y6THxLkObrlN9V6HfTwk1Sfki37RkkIWzfdJysByv95fDcgeFp7xuFVNnzH9DY/MGYd56vLCOy7g75wVbIykEHYgg8rcxvO69iuJvWof4pvUQ5WP4h91vWxnBFM6j7LeL5nqU3PeIFvEKSQP9zfCVZVtbHGjp0REzkRERAEREAREQBERAEREAREQBERAKTD4lbJY7MQD5b/lMyYPEjoBzvf0F7yNPSZKfqRgYvFKmHcFFfKLKhsA2hIBLaACxJPIAzknabgDLQpYpmAeplzooCogYXQIoAsAO7rqd50riNM18PiUpmxNM0w3LM1wQD1sSP5pEdsggwy02I1ZQo65AT8O7ITXKRb26bOYYXBlrsdFFj/uA/MyT7NdmGxTZmfInVbXuPDpeeMfiFGGRVtd1s3pe3zvNk9m2KsGRtM/eQ8jbRlB66XtL89NT8REzvn7EpQ7J06CALd3zsQxAvZgLrpy7s0btFw3KxqqPeqZdOd1H/wAgwnYnW+vS9vPr6TXcfw0qtNgCxWp9pYjS4vkBsLk639Jhm6VdxpSlx2nLsRwl0Ize9nKEeOUNt6kSa43w4PdwpJCBdt3uAlhudL8uU2lOzFSo+e9nZ7liLEZveYA6aDQDx1nvtZ2Zp0cPUqNiaqsqdwZ7Z6gv3bc82gsLW1PKXKqrVL0Vvtjcv2aHR4O+cIwOwLW1tfZR1Y6D1lnGcOel766XK5hsWFswB8Libj2EwlVwrlmKEOHDglldchplCdwyvfW9rHrNk7W8ORsG6hbsozp1z33+Z9CZZOelSTK3MueEcx4TwKvXRnRBkViuZmVAT0BY67ie8DXqYTEAspV6bDMp33v/AFm24fCKmEw6Gmr3Q1Gzm2XO17gZTduQv0kT26wC03olbkMlrn90/owHpLIzO6cs8rH2ymdpwGLWqi1FN1ZQw9Zkznfsmx7vSq0m1WmVK+Ga9x5afWdDnlLT0UFYiJ4BERAEREAREQBERAEREAREQDzIvHHMWB2tb4j+skKlZV3IHhz+E1/i/EhTDOR3j7q8zpYSrLSS0XYZbrhFOHplooo6uW8TmKqT6A/Ccy7a4qq2LNJFYm65LczqSBffSw+M6HQqsiIhAaswHdBNsxJY3J2W5Yzxx/gS1KdNqb/8TQf7VGFgGYsGZSbEBTaw3tYb63hjadb9IspuVr2zh4qG+pJHLyuT+Zmy8BxuSk6F8qXLkDTUfeB3Xl7p3ttNq412Fp1lfF4ZghtUZ6VRQVDgHOFye6QQdri+onOuFY8IcrjPTb3lP1A6/WaLfdOkQx0lXJ0ThfFK1BEqV0cUXKC7OXylxddWJYHcW1HjN4psCARqJrtfDU8fgkpqfdKlTrl7uozC/eW2lt/KTuHYKRTGuVF1+IH0My2lxot+W+TIHhMbjGBTE0/sqwulwdNDcbEHlz+MyJUGRTa8HjW/Ji8P4clBMlMEDxZmO1hqxvsAPSXMXQDoynmCPK43l+eW2jZ6QPGMICygsEQKVUgXIGl77WA08rHTec27T8Y/aauZfcQZE/hB1bzO/laZ/bjiNb9pelndUZFJQMbEEaXG3nNVpbEeJmvp8aXyKstP6fsdb9k9EClUYbtkJ/1OBr6H4zoU0T2UPfDONLq9j8Lj6/Kb3J39TKWViIkTwREQBERAEREAREQBERAKSxiK+UdSdhLlRwASTYDU35SAxWOLr9rT7y/dG2Zb6kX5nceQkLrtROIdMvYqvbvN1AvyFzYems1zjmFqBjUXvKLMOeXKQbEdPGSWBx6Vw6GxsbEH8JHMdb3HpPIxDUWCObodFY7g/hbroPemOn3cs3QnD0kRlGtlUVfedy2/JQSvLqVJ8rDrM/hpr4g2DZV+8wUaeA8ZD4pkaoRSBykgAcs7HZegJINurGdA4bhvs6SJ0UA+fP53k8c91fshnrslccv8GPVwSph6lNBYZHAFzqSDcknmSb38Z81DSfRvani9PDYd2qMAWVwo5s2U2A+Ws+dkQs1gCfKbZRgW2bx7N+MhKj4dzYNql+vNf78ZumLw1dKjPSc5XsWWytqBYEX1GnQ28JxelQfNsQb3AF738JvfAO1lamMlXvgG37w/IyjJjdNuTTN613fk2rjXaQYZkpmlUd32awVL2ue/18AJY4bxLEVK6ZmUIc2ZFUbZSQSx1uCBz5ySwvEKGJTLdWvup3B/WX8FwxKZzLmLai7EGwPTTy1lLLZcqXtc+jOluq17KNzv/CN/yHrPGLxS00LMdBy5k8gOpMt4HMQaj6FtbfhUbD6knxnhDXGzlntFW2OJ5FKf0ImugTp/bHs8MRmr5wgRNXawUgZj5nltpOYsMuhnQw0lKTM9Lbejp/slqj/GX8QRt+a5lbT1Q/zTpk4P2H4x+zYlS3uMcreF9P0+AndKbAgEG4OoPgYyLVFbLkREgeCIiAIiIAiIgCIiAUkF2g7R0sKAGuzsLhR9SeQ8ZMVqgVSxNgAST0AGs4hxjixxFd6m9zp0VRoo+Ehddq4NXSYFlvnwjO452nr4pgpORCcgRL2JJtdjztrvp4TZcHjgKDJzVbLfYjYfCc+ItqNf75SXwHFBaznyb/7dPOY8jp8o639vCSSXBJ+6yFSVNzsSCdCbeUrXxDMxLNdvdW/+4+mvw8ZjVSSwZbkarccr2JIt5ASLq8WVH+yVs7gEnop3IJ5tv85VMulwRukmbhwHChqqE+5TOdmJ0XLcgknx/OU7T+0unSzU8KoquNC/3FPhb3/TTxmj9qu1xrD9mwganhx752eq3MsdwoPLw6aTWnTIuvS8345WOdeznZE81OtaSJys9TFOK2IqF2fYbBf3QOQHQSTocPVRb5LoP1msYTEZFGa5B3HiTuJsuBqFt3v0Gmo5G/OX4WnWqW/sRz90wnjetedeTLWmF2AEh6xBdiu1/wCzJaqTsu5+Q6yNxQCnKNh8zNTSXCOcm29slMBhkpUTjK7MKaGyKjWZ32Aup7uvI/TfI7P+0J3P2b0szm+Qqyi9gSA17C9uY36SEw3FjRRwyipScWqUm0WoOdjyccmHMCXeCYQYVsRjaZzUqdDPQdx96q2RM37yEOCP1mTLCb5NMW0jbKeHxNVhiMUEpIPcVmCpTU7kk6s5Gl7eA5zG457RMHQBVL4pxYdzSkp5XJ970v6Tk3FuM1sSxavWeq2tgSQq/wAK7DbkBPXB8GtUsGHdVQbLpdj1MqUTPJZLvK1Mmfi+0FXGYgPiK11HeVb2RQNQFXkfHfxkhTAYhiAbXsQbhrjQePW8rh+GUkWwVD1zANr6xjsUKS2HvHbw8T4Tz9R1xKNkdIsXzyPwX+FYRXRgWCsSVBP4twPPS46gnpOi9hO0/cFDEEBkOUMxAtYbNfy38Zx+lijY67kX8CDcHz/WX2xb3uTr+Ln4eo5GbXPcjA2mfTIMrNL9mHE3rYQhzc03KA/u5VYfU/KbnKGtPRWViIngEREAREoYBQmYOI4tQT361NfAsoPwveaX2/7QG/7PTYi2tQg28lv8z6DrNCJAlV5NPSOhg6B5JVU9bN77Y9q6dSk1CixYPozC4GW+qi+pvsfCaIBYWE8O4HInyBmLVxL/AHUPmf0lNU6fJ08WLH086kzby07qPvAHzEiKz1D72b4ETFcz1T+5G+o16JXiXFqyUwKbgJsbAZl8L9OXpIbhVzVU32uxPhbX6yuS/j+UysFS+zzs2gy2F9L69PhLFqU0jC07yqvRk0sOPtbEAc/Pn9b/AAleK07unlc+QOnzIl9nDZKi62Nj5HkfL85kKL1UvqGR1PxB/Iyvue9mz9NOGl7ZAY1u6PP9ZlcK4lksrGwGx6eB8Ji46mCSR1YBd8gUkXbztMdKeovz1mmFud/Y5ltzk4/x/k32lilZb7EC5Hh1vzEgcTj1uTvufD4yOOIOTJyHPw6SMxuJBFhrY62+l5P9amtFV4YltpmetfOxQnvGwQX0YkjQeJuLTbe31dcJgqPDUtnIV6zC51vmAv4sb+QHWc2zWAPO/dIvYc/75iXnxVQtmaozNzLNmvbxYyLeylvgozKpAvc3BIN7ePOTnZxSKbm1rlRty3PyMh8GjO4VSu9yQBoBz5zcsJTVQFN7Aa7X+fMyvJXGjd0OJ1Xd6R6w+NYqAha2vUKL6+sieJUA9W1+8RrpYX1k65U2y5ue5Bv0toJjLhhmzHloo6ePnKJrtZ0smL9SVL+5q66Eg+RntKn3WkjxnCJe6sM5+7uW8QBzkO2+v9mbceTa2jjZsLx00zfvZ/2vXBM1KsCaTsGzAaq1gL+IsBceF523D1ldQ6MGVhcEG4IPMGcK9nvBhilrpU/yzkQ7XV2zGm69CrLbxDm8luzHGcRwys+HxKs1BXCsw1FNnF0YfusNehN+ekVy+CjR2WJapVAwBUgggEEbEHYiXZE8EREA83mrdqu1K0AadMhqxHoni3j0ElO0WPNDD1Kg94LZf4jovwJv6TjLuSSSSSdSTqSTuSesryVrhG/oulWV91eF+RUcsSSbkkkk7kncnxlu8xcdXdBdVDDn1Ewxxa/3dfOZ1Lfg7LyxD7XwS14kdT4mOYI8RrMtK6tsw+M8ctHqyxXhlxzbWQ9akz1LfdXc+O5+f0mVi8UPdB1vaw3vMqnTCi2njPV8eSq0sr16RboYRV2+Wnz3lmjiFLvTYC1yB4jofGZt5h4nABrldDv4f0hVvye3Pal2oomDNMlk1U+8h/Kenb3D0Ycytw3d+OsrSxWVW+0Niu/iOXn0l6iobvaEHUW1A/rPdvyyKUvif4+xGYtCqPyGc2A2N9b5ufSYhHyk3xKlmTy/vSRlLDkkg8vz5zThtKXs5/UYKWRKS5gKKEHNcna2p30ms4ikFYgnQG3W9uflNuFEqbkBhsbAg+dra+kwe0T0SgF1z6WK20HO/hITXy4PM2Jfp88Nfk14Ll13B9V/7+c8ki1wCB6H57yi1SDoPXXX0mwcF4elRM5PeDEaBf06GTqlK2zDixPJXbPkpwPEKiMSDmuAdPugaC+295Jq7se6hFze76gem0f/AM5dQzNpsSdJk0alwdwwNiPEcxKapPlHXw46mVNca8F2lTsd7m2p6nl9DLlW+U20Njr6TyG1B9D+X9+MrV91vIyr2bdangrwrDqqK4F2dQzMdSSfHp4TH41wwOpdRZwNf3h+sycC9sOh6ID8paw+ADqr1WLkgGxNlFxewUafGE2q3shcTcKNeVs6j2S4B+yYWiujO7K9QqbglypFjzC5UF+gY85ldoeHKcRh6jKGSpnwtYEaOjqWS/k62HTOZG9hOI3X9nb7ik0/BNiP5bi3g3hNyxFAOFB5MjeqsGHzE1zSpbR8/lxvFbl+SA7L0Wwz1ME7FkUfaUGY3JpMbMhPVG08mWbRI7GqBVoN97M6easjMR5XRT/LJGSKhERAOc+0PjQYjDob5SGc+Nu6vzufSaBVdhey39fymxdrOEvh6zM4OR3LK3I5jfKTyYfPlIEutr3HxEzXt1yj6LpVjnClNf8ApEVMe99gPCxhMQje+gHiBLuNxo2W3nv8JFOSSeX6ySnZny5u18PZl4jCqRmR1t0MwVU8z8JmU+E4l6X2y0namDYuFuPL+u0lezPZevjHy01so9+o18q+F+bfuj5byalpaM1ZZp92tEPhnCG9r22iviGc2J8hO78I7DYOiqhqKVGtqzjMSeeh0A8JP0OG0U9ylTT+FFX6COznZW+r0u2fB854HDYpnVKSVGYgnLlPurbMRmtoLjXbUSld8Uj1KbJ36QJcd05ACLklSQQMy6g8537jGD732qjVaNWntcjOUYW/0EeokZxfs2hxP7YuSzU2pYhHOValNgO9m2DgAanQgAabySmfaK/7rJ6ZwOpVeuQpIHjbYfnykzgKQpoQGuTr3iR8LbTEx+HppWqJhnZ6eayMRqV9N7G4vzAvzlo4k0dWW9+v69JXXPxRrwX2/OvP3M2viKn4R/LqRrqfO0xcZxRUACp3vu66+um3nLf/AIlAH+WR66fSQ2Lc1GYt7976c18ImX7R5n6pJfB7b/BercbqtoGyg72AHzGsj8xYW0vv4n15zwVmRgsPndFJy5mAva9vSWpJHPq6ry9mOo+s2vspWuHXoVIv0It+U3/GdlaeIwSYWjWpM1I5lqhVF1sbhspJta/PkJz/AIXg2w+Keg9iyrlJUkg7MCL8rGRyLcsu6StZl/BOkAsQfw6j1/7zBfDlHvqVbfqvQjrbaSLaEHrcfn+U9WmZPR3qlV/JGpUKsUbfflrbUEfSesVirn7NBncgiw2XxJ5c544ojWDDW3Pp5jpMmhQFNqa8zcserEan5z3jWyndbc+vuXjTKYYqd1Qj4LD4nJRVrXNkAG1ybASvFa6rTdSRmZWCrzJItoN5ZxQ71FOnfI/hWw+ZkUt+fuWVWnqfSSM/hOOq0XLhwSyshW1lCtvl5htNDedqwGIFSmlQAgOAwB3FxexnFMLRzOiXtnZUv0zMFv8AOdxo0wqhRsAAPICwl+FtpnN/qUyqWvP3LTUi1UMfdRSB/E1rn0At/MZlxEuOYIiIBjYvCpUUpUVXVtCrAEH0M51xj2UIzFsPiDTBN8jKXA8AwYEDzvOmxB6m14ONn2VYldqtFvElwfO2U/WbBw32WUFA+2qO53IWyL4jm1vWdEieaJfqVrWyzhsOlNFRFCooAVQLAAbACe6dMKLAADoAB9JciekBKRI3j3FkwtB61TZRoBuzHZR4kwEtmF2l7UYfBr/itmci6011ZuW2wHiZx7tL2wxGLuhOSlfSmvTlmbdvp4SJ4txN8RVetUN3c9dAOSjooEucOwv329P1lVXo6GDpu569/wCi2lP7NGdyQPwjc9JrWMxDO7FueoHQchJHtFxAM2RTou9ti39JDKdLz2J42yrqsib7J8L8sHznpVBtytzvp5X5ec8GVvLDIXqtzo17jb/vznlEvsV9SRPF+nw5T0Etsd9L+Pj084BtnZPtOMIlVKql0qIUsGubHxsbcx/NILhOJK1lZiTcjMd75tL/ADEjwPTXlveZnD0JcNyW2/MjVf19J5XgsxNq019zdK3vI3IE39RYTExPFlR8rK3I3Fv1mO2Pa1iB6T1xfDh0DrqV18xz+EzTK3qjt3kbhvG+VyZVHiNN9Aw15HT6zF4jibuiqSGAAJG4se8fh9ZDYFBnBYXUG5HWSuNcEq42I18xv+Ul2pPgoWesuNuuCZoYWnSBfnbV2NzbzP5TCw7l6rVLWXLlW/S97+pvMB8S9UqNlFgo6m3vH+9JLYZABYbbX+p+N5BrtW2aYpW1pcL8skMA1qiEbh0PwYGdyWcXw2By1bFr5BTe1rX7zab7d0fGdlotdQeoB+UngpPaRh/qTTctfuXYiJoOYIiIAiIgCIiAIiIBScM9rHacVK4poSadIldNmq/ePoO7/qnX+0FKu1Blw5AqNZQxNsgZgGfxKrmIHM2lvB9n6CYcYbIr07EMHAbOT7zNfckkm88JS+3n2fNfD8ejN/id0epB8zykhxXjKBMtNgSeY+6P1mD2u4P+x4utQ1yq3dO10YZl+RA8wZBXkXCb2Xz1VzLle/fsoxlUblKRTNiJMzF4KeZAt5n6Q9Mnp8ZRx1Bvc7QrkHTS3xgCec1p6ve5NvLb1tLbG8AuA3Gm97Sfw1DIoU+9u38R/TQSM4RRuxYjRdf5jt+vpJi8hT9Gzp4Wu4c5eo4lk21HQyws81j3TK9Gnuc8o90SpBsLd42ttboefrKVRcAX0vf5QgtoIbly1nu+SO+NGZhhkUvzPdQeJ5/30koiWW3haRmGfPUGX3KY08W5H85LCVX5Oj06Xbx48f5Niwa56qW3dEt/q/8A2PjOsU1sAJyrs7SZ6mFKWOV7Nf8AAL3253VD6Tqyx0s6TZyuvr5qfse4iJrMAiIgCIiAIiIAiIgCIiAaZ209n+Hx5FRmanWChQ66ggXsGQ6EanUWM432u9nmKwINRstSiLDOl+7fbMp1Xz1HjPpeWa9FXUqwBVgQQRcEHcEQD48hVndOO+x2g7M+HrNTvcimyhlzcgDcEDzvOJtSZWykWINiNNCNCIB5z6/i9L2lbA7qBfr3fhaXRQvqbkfugkyopG2mUeBNyfz+kAtmgQNvje9vMaS0F2mUoNvf05269LyxWN9Qb+lvrAMzAYxURlIPvXvp0sPGZyYpDsw9dJBKh6TZOD9icZiqRrYemrqGKFQ6KwYWvdXI6g7yLlF0ZnK0VG0tVTey9foJnYngmIw1kxNI02a5XMVa636qSNJhoneY+Q+UhrTNarula9noS3iVupl0iLyO+STW1oluF4XIgB3Op8+nptL9OpdmHS3zEuqdJHYar/xDr1VT8B/WVfU2zpJrGpS8eDoPs2Oau6kHuLnB5d+y289GM6bOfezKhrWew2Rb/wCon8p0GX4pSng4nWveZlYiJaZRERAEREAREQBERAEREAREQCk+ePavwBsPjWqKP8OuTVWwtZrj7Rel7nN/NPoial7Ruz4xeDdVW9Sn/iUyN8y+8v8AMtxbygHze6N1ax13sPK0qaYAF8vr+ukrnynXLfbmT6a6S1UqL69QT+d4BVmB3Zj07oIHoDKBR+IetxPahdLZ/wDbK5Oi3Pgw/IwAqEC2gG9wdfieXlO5exPJ+x1AoXOKpLMDqwKjKT5d4ehnCzSKi5svnnv9Js/s/wC1H7DiM5Jak9lqKOl9GF7C66n4wDrvtU4X9phhVUXai1z/AAN3W+BynyBnGKQ97zn0tURK1Ig2ZKi280YfoZpuC9mOFT33qVNSbFgotf8AdF/nI1Oy/HlUrTOPGZ+Awd7M23IdfEzc/aJwHDUBh0oUwjMXLWJN1AHvEkk6nT1mtI4bRdhpf8hKa2uDpdKpv5MuGQGIqZMSG5G1/Ii02CQfG6V3BHMfQn9ZGPq0aOrT7E16aZ2f2b0rYZj+Ko3wAUfW83CaL7KcZnwrIfeRrnyYD53VpvM0StI4ed7yNnqIiSKhERAEREAREQBERAEREAREQBKGIgHyHiP8x/4j9TLY3iIB75jzmPX3iIBM4P3B5TFr7HzERAPpfsJ/6dhP+RT/AOkSfiIByb2sf+Zpf8o/9TTVsJ7i+URM+TydnofpRdWR/GPueZ+oiJCPqNnVf8b/AOjpPsg/yK38Y+k6IIial4Pn831srERPSoREQD//2Q==)"
      ],
      "metadata": {
        "id": "qG02OYBTdvqV"
      }
    },
    {
      "cell_type": "markdown",
      "source": [
        "# Mistral AI API Chatbot\n",
        "Bonjour and Welcome to age of Mistral! This is a very simple chatbot that has the memory of the entire conversation similar to ChatGPT, up to 32K tokens, after which point it will break. All you need to run this is an internet connection and Mistral AI API key (you may be waitlisted for a week or so).\n",
        "\n",
        "First step is to go get your API key at https://console.mistral.ai/\n",
        "\n",
        "Afterwards just follow along in the notebook, activate all the cells by hitting the \"play\" button or \"Run all cells command\", the chat input will be in the last cell of this notebook. Again, this has memory so you can have a conversation up to 32k tokens, but it will give you an error. Feel free to clone this notebook and modify as you see fit I will be updating this periodically.\n",
        "\n",
        "This is a very quick starter notebook for interacting with the Mistral AI Python SDK. For a detailed breakdown of the API Endpoint please visit:\n",
        "\n",
        "- [Mistral AI's Python SDK Repo](https://github.com/mistralai/client-python/tree/main)\n",
        "- [API endpoint documentation](https://docs.mistral.ai/api/)\n",
        "- [CustomGPT for the docs (in beta)](https://chat.openai.com/g/g-gEXnaYplU-mistralgpt)\n",
        "\n",
        "If you have any questions don't hesitate to reach out on LinkedIn:\n",
        "\n",
        "---\n",
        "**Matthew Ogbuehi**\n",
        "\n",
        "Freelance AI Engineer\n",
        "\n",
        "http://linkedin.com/in/mogbuehi\n"
      ],
      "metadata": {
        "id": "uUPONwzZYeeb"
      }
    },
    {
      "cell_type": "markdown",
      "source": [
        "## Alternatives\n"
      ],
      "metadata": {
        "id": "QInE5pzscso1"
      }
    },
    {
      "cell_type": "markdown",
      "source": [
        "If you end up waitlisted some free alternatives that are:\n",
        "1. [Nvidia cloud hosted instance](https://catalog.ngc.nvidia.com/orgs/nvidia/teams/ai-foundation/models/mixtral-8x7b/api)\n",
        "2. [HuggingChat 🤗 ](https://huggingface.co/chat/) and be sure to choose the `mistralai/Mixtral-8x7B-Instruct-v0.1` model"
      ],
      "metadata": {
        "id": "b-DVzcGhlIl1"
      }
    },
    {
      "cell_type": "markdown",
      "source": [
        "## Installing Dependencies"
      ],
      "metadata": {
        "id": "78Wuv-o6hq2g"
      }
    },
    {
      "cell_type": "code",
      "source": [
        "!pip install mistralai"
      ],
      "metadata": {
        "id": "yIbUaAiFMBQQ"
      },
      "execution_count": null,
      "outputs": []
    },
    {
      "cell_type": "markdown",
      "source": [
        "## Formatting"
      ],
      "metadata": {
        "id": "Y1ecIf-jhu1w"
      }
    },
    {
      "cell_type": "code",
      "source": [
        "# Display markdown format\n",
        "from IPython.display import display, Markdown\n",
        "from datetime import datetime\n",
        "def print_md(string):\n",
        "    display(Markdown(string))\n",
        "\n",
        "# Example usage:\n",
        "print_md(\"**Bold text**\")\n",
        "print_md(\"_Italic text_\")\n",
        "\n",
        "current_time = datetime.now().strftime(\"%Y-%m-%d %H:%M:%S\")\n",
        "print(current_time)"
      ],
      "metadata": {
        "id": "wa4fWq0KhosY"
      },
      "execution_count": null,
      "outputs": []
    },
    {
      "cell_type": "markdown",
      "source": [
        "## Chatbot\n",
        "To use this, please enter your API key from https://console.mistral.ai/ where it says 'YOUR API KEY'. Be sure to not share this notebook with your API key saved for the sake of your wallet 💰😀\n",
        "\n",
        "Just like with GPT, you can modify system message and messages follow the familiar `system, user, assistant` format"
      ],
      "metadata": {
        "id": "1Ty0GWWVYdoZ"
      }
    },
    {
      "cell_type": "code",
      "execution_count": null,
      "metadata": {
        "id": "Elzeuh1LL-68"
      },
      "outputs": [],
      "source": [
        "from mistralai.models.chat_completion import ChatMessage, ChatCompletionResponse\n",
        "from mistralai.client import MistralClient\n",
        "\n",
        "# Initialize your chatbot (setup API keys, select model, etc.)\n",
        "client = MistralClient(api_key='YOUR API KEY') #<---------- Your API key goes here!\n",
        "\n",
        "# Define optional parameters\n",
        "max_tokens = 500  # Maximum number of tokens in the response\n",
        "temperature = 0.0 # Controls randomness: lower values make responses more predictable\n",
        "top_p = 1       # Nucleus sampling: higher values allow more diversity\n",
        "random_seed = 42  # Seed for random number generator for reproducibility\n",
        "safe_mode = False  # Enable or disable safe mode\n",
        "\n",
        "# Initialize conversation history\n",
        "conversation_history = []\n",
        "\n",
        "# Example of setting a system message\n",
        "system_message = ChatMessage(role=\"system\", content=\"You are a helpful assistant named Misato. Be curious to learn about the user and help them with what ever task they ask of you\")\n",
        "conversation_history.append(system_message)\n",
        "\n",
        "# Start chat loop\n",
        "while True:\n",
        "    user_input = input(\"User message: \")\n",
        "    if user_input.lower() in ['quit', 'exit']:\n",
        "        break\n",
        "\n",
        "    # Append user message to conversation history\n",
        "    user_chat_message = ChatMessage(role=\"user\", content=user_input)\n",
        "    conversation_history.append(user_chat_message)\n",
        "\n",
        "    # Send the chat_message to the Mistral AI model and get the response\n",
        "    response = client.chat(\n",
        "        model=\"mistral-small\", # Choose between `mistral-tiny`, `mistral-tiny`, or `mistral-medium`\n",
        "        messages=conversation_history,\n",
        "        max_tokens=max_tokens,\n",
        "        temperature=temperature,\n",
        "        top_p=top_p,\n",
        "        random_seed=random_seed,\n",
        "        safe_mode=safe_mode\n",
        "    )\n",
        "\n",
        "     # Extract and append the AI response to the conversation history\n",
        "    if response.choices:\n",
        "        ai_response = response.choices[0].message.content\n",
        "        print_md(f\"**AI message**: {ai_response}\\n\")\n",
        "        ai_chat_message = ChatMessage(role=\"assistant\", content=ai_response)\n",
        "        conversation_history.append(ai_chat_message)\n",
        "    else:\n",
        "        print_md(\"**AI message**: Error. No response received.\")\n",
        "        # Assuming response.usage is a dictionary\n",
        "    for key, value in response.usage:\n",
        "        print_md(f\"{key}: {value}\")\n",
        "    print_md(\"\\n\\n\\n\")\n",
        "\n",
        "# End of chat session\n",
        "\n"
      ]
    },
    {
      "cell_type": "code",
      "source": [],
      "metadata": {
        "id": "7Vmp3LZPQKL-"
      },
      "execution_count": null,
      "outputs": []
    }
  ]
}